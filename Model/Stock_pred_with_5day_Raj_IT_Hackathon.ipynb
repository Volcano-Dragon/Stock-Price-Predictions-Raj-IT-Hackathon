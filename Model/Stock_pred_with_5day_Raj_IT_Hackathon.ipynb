{
  "nbformat": 4,
  "nbformat_minor": 0,
  "metadata": {
    "colab": {
      "provenance": []
    },
    "kernelspec": {
      "name": "python3",
      "display_name": "Python 3"
    },
    "language_info": {
      "name": "python"
    }
  },
  "cells": [
    {
      "cell_type": "markdown",
      "source": [
        "Stock prediction model using LSTM.\n",
        "\n",
        "> Made by: Garv Saxena\n",
        "\n",
        "> For Rajasthan IT Day Online Hackathon"
      ],
      "metadata": {
        "id": "Y-vbMeUkU2Pd"
      }
    },
    {
      "cell_type": "code",
      "source": [
        "#Updating the modules (otherwise error message in fetching dataset from yahoo)\n",
        "!pip install --upgrade pandas"
      ],
      "metadata": {
        "id": "QQKNJkYHrilk",
        "colab": {
          "base_uri": "https://localhost:8080/"
        },
        "outputId": "4a7dd60d-ef8c-4919-d7d8-54d3c15f6122"
      },
      "execution_count": 1,
      "outputs": [
        {
          "output_type": "stream",
          "name": "stdout",
          "text": [
            "Looking in indexes: https://pypi.org/simple, https://us-python.pkg.dev/colab-wheels/public/simple/\n",
            "Requirement already satisfied: pandas in /usr/local/lib/python3.9/dist-packages (1.4.4)\n",
            "Collecting pandas\n",
            "  Downloading pandas-1.5.3-cp39-cp39-manylinux_2_17_x86_64.manylinux2014_x86_64.whl (12.2 MB)\n",
            "\u001b[2K     \u001b[90m━━━━━━━━━━━━━━━━━━━━━━━━━━━━━━━━━━━━━━━━\u001b[0m \u001b[32m12.2/12.2 MB\u001b[0m \u001b[31m47.7 MB/s\u001b[0m eta \u001b[36m0:00:00\u001b[0m\n",
            "\u001b[?25hRequirement already satisfied: python-dateutil>=2.8.1 in /usr/local/lib/python3.9/dist-packages (from pandas) (2.8.2)\n",
            "Requirement already satisfied: numpy>=1.20.3 in /usr/local/lib/python3.9/dist-packages (from pandas) (1.22.4)\n",
            "Requirement already satisfied: pytz>=2020.1 in /usr/local/lib/python3.9/dist-packages (from pandas) (2022.7.1)\n",
            "Requirement already satisfied: six>=1.5 in /usr/local/lib/python3.9/dist-packages (from python-dateutil>=2.8.1->pandas) (1.15.0)\n",
            "Installing collected packages: pandas\n",
            "  Attempting uninstall: pandas\n",
            "    Found existing installation: pandas 1.4.4\n",
            "    Uninstalling pandas-1.4.4:\n",
            "      Successfully uninstalled pandas-1.4.4\n",
            "Successfully installed pandas-1.5.3\n"
          ]
        }
      ]
    },
    {
      "cell_type": "code",
      "source": [
        "pip install yfinance"
      ],
      "metadata": {
        "id": "IIB5Y9IlE-_T",
        "colab": {
          "base_uri": "https://localhost:8080/"
        },
        "outputId": "2c0e8dae-29a2-427a-fbe5-448a18fa0583"
      },
      "execution_count": 2,
      "outputs": [
        {
          "output_type": "stream",
          "name": "stdout",
          "text": [
            "Looking in indexes: https://pypi.org/simple, https://us-python.pkg.dev/colab-wheels/public/simple/\n",
            "Collecting yfinance\n",
            "  Downloading yfinance-0.2.12-py2.py3-none-any.whl (59 kB)\n",
            "\u001b[2K     \u001b[90m━━━━━━━━━━━━━━━━━━━━━━━━━━━━━━━━━━━━━━━━\u001b[0m \u001b[32m59.2/59.2 KB\u001b[0m \u001b[31m1.7 MB/s\u001b[0m eta \u001b[36m0:00:00\u001b[0m\n",
            "\u001b[?25hCollecting cryptography>=3.3.2\n",
            "  Downloading cryptography-39.0.2-cp36-abi3-manylinux_2_28_x86_64.whl (4.2 MB)\n",
            "\u001b[2K     \u001b[90m━━━━━━━━━━━━━━━━━━━━━━━━━━━━━━━━━━━━━━━━\u001b[0m \u001b[32m4.2/4.2 MB\u001b[0m \u001b[31m42.5 MB/s\u001b[0m eta \u001b[36m0:00:00\u001b[0m\n",
            "\u001b[?25hRequirement already satisfied: lxml>=4.9.1 in /usr/local/lib/python3.9/dist-packages (from yfinance) (4.9.2)\n",
            "Collecting appdirs>=1.4.4\n",
            "  Downloading appdirs-1.4.4-py2.py3-none-any.whl (9.6 kB)\n",
            "Requirement already satisfied: multitasking>=0.0.7 in /usr/local/lib/python3.9/dist-packages (from yfinance) (0.0.11)\n",
            "Requirement already satisfied: beautifulsoup4>=4.11.1 in /usr/local/lib/python3.9/dist-packages (from yfinance) (4.11.2)\n",
            "Requirement already satisfied: requests>=2.26 in /usr/local/lib/python3.9/dist-packages (from yfinance) (2.27.1)\n",
            "Collecting frozendict>=2.3.4\n",
            "  Downloading frozendict-2.3.5-cp39-cp39-manylinux_2_17_x86_64.manylinux2014_x86_64.whl (112 kB)\n",
            "\u001b[2K     \u001b[90m━━━━━━━━━━━━━━━━━━━━━━━━━━━━━━━━━━━━━━\u001b[0m \u001b[32m112.8/112.8 KB\u001b[0m \u001b[31m11.3 MB/s\u001b[0m eta \u001b[36m0:00:00\u001b[0m\n",
            "\u001b[?25hRequirement already satisfied: pytz>=2022.5 in /usr/local/lib/python3.9/dist-packages (from yfinance) (2022.7.1)\n",
            "Requirement already satisfied: html5lib>=1.1 in /usr/local/lib/python3.9/dist-packages (from yfinance) (1.1)\n",
            "Requirement already satisfied: pandas>=1.3.0 in /usr/local/lib/python3.9/dist-packages (from yfinance) (1.5.3)\n",
            "Requirement already satisfied: numpy>=1.16.5 in /usr/local/lib/python3.9/dist-packages (from yfinance) (1.22.4)\n",
            "Requirement already satisfied: soupsieve>1.2 in /usr/local/lib/python3.9/dist-packages (from beautifulsoup4>=4.11.1->yfinance) (2.4)\n",
            "Requirement already satisfied: cffi>=1.12 in /usr/local/lib/python3.9/dist-packages (from cryptography>=3.3.2->yfinance) (1.15.1)\n",
            "Requirement already satisfied: webencodings in /usr/local/lib/python3.9/dist-packages (from html5lib>=1.1->yfinance) (0.5.1)\n",
            "Requirement already satisfied: six>=1.9 in /usr/local/lib/python3.9/dist-packages (from html5lib>=1.1->yfinance) (1.15.0)\n",
            "Requirement already satisfied: python-dateutil>=2.8.1 in /usr/local/lib/python3.9/dist-packages (from pandas>=1.3.0->yfinance) (2.8.2)\n",
            "Requirement already satisfied: urllib3<1.27,>=1.21.1 in /usr/local/lib/python3.9/dist-packages (from requests>=2.26->yfinance) (1.26.15)\n",
            "Requirement already satisfied: charset-normalizer~=2.0.0 in /usr/local/lib/python3.9/dist-packages (from requests>=2.26->yfinance) (2.0.12)\n",
            "Requirement already satisfied: certifi>=2017.4.17 in /usr/local/lib/python3.9/dist-packages (from requests>=2.26->yfinance) (2022.12.7)\n",
            "Requirement already satisfied: idna<4,>=2.5 in /usr/local/lib/python3.9/dist-packages (from requests>=2.26->yfinance) (3.4)\n",
            "Requirement already satisfied: pycparser in /usr/local/lib/python3.9/dist-packages (from cffi>=1.12->cryptography>=3.3.2->yfinance) (2.21)\n",
            "Installing collected packages: appdirs, frozendict, cryptography, yfinance\n",
            "Successfully installed appdirs-1.4.4 cryptography-39.0.2 frozendict-2.3.5 yfinance-0.2.12\n"
          ]
        }
      ]
    },
    {
      "cell_type": "code",
      "source": [
        "import yfinance as yf\n",
        "import datetime as dt"
      ],
      "metadata": {
        "id": "-PgWZX7iUAvN"
      },
      "execution_count": 3,
      "outputs": []
    },
    {
      "cell_type": "code",
      "execution_count": 22,
      "metadata": {
        "id": "bhm2aepdnwoZ"
      },
      "outputs": [],
      "source": [
        "#Importing libraries\n",
        "import pandas_datareader as dr\n",
        "import numpy as np\n",
        "import pandas as pd\n",
        "from sklearn.preprocessing import MinMaxScaler\n",
        "from keras.models import Sequential\n",
        "from keras.layers import Dense, LSTM, Dropout\n",
        "import matplotlib.pyplot as plt\n",
        "\n",
        "#2138 is training size\n",
        "#549 is testing size"
      ]
    },
    {
      "cell_type": "code",
      "source": [
        "#building dataframe for tata motors stock from yahoo finance\n",
        "df = yf.download('TTM', dt.datetime(2012,1,1) , dt.datetime(2023,3,19))\n",
        "df.head"
      ],
      "metadata": {
        "id": "Xaxlm9sMsX2r",
        "colab": {
          "base_uri": "https://localhost:8080/"
        },
        "outputId": "53923696-549c-4280-cad0-12b7468474da"
      },
      "execution_count": 23,
      "outputs": [
        {
          "output_type": "stream",
          "name": "stdout",
          "text": [
            "\r[*********************100%***********************]  1 of 1 completed\n"
          ]
        },
        {
          "output_type": "execute_result",
          "data": {
            "text/plain": [
              "<bound method NDFrame.head of                  Open       High        Low      Close  Adj Close   Volume\n",
              "Date                                                                      \n",
              "2012-01-03  17.820000  18.320000  17.820000  18.110001  17.598066  1919900\n",
              "2012-01-04  18.440001  19.000000  18.440001  18.790001  18.258844  2907600\n",
              "2012-01-05  18.790001  19.180000  18.700001  19.100000  18.560083  1765300\n",
              "2012-01-06  19.080000  19.180000  18.889999  19.049999  18.511492  1877900\n",
              "2012-01-09  18.820000  19.150000  18.760000  19.129999  18.589231  1216100\n",
              "...               ...        ...        ...        ...        ...      ...\n",
              "2023-01-26  25.139999  25.139999  25.139999  25.139999  25.139999        0\n",
              "2023-01-27  25.139999  25.139999  25.139999  25.139999  25.139999        0\n",
              "2023-01-30  25.139999  25.139999  25.139999  25.139999  25.139999        0\n",
              "2023-01-31  25.139999  25.139999  25.139999  25.139999  25.139999        0\n",
              "2023-02-01  25.139999  25.139999  25.139999  25.139999  25.139999        0\n",
              "\n",
              "[2789 rows x 6 columns]>"
            ]
          },
          "metadata": {},
          "execution_count": 23
        }
      ]
    },
    {
      "cell_type": "code",
      "source": [
        "#Ploting tata stock price (Just for Fun)\n",
        "plt.figure(figsize=(9,4))\n",
        "plt.title(\"Tata Motors Closing Price History\")\n",
        "plt.plot(df['Close'])\n",
        "plt.xlabel('Date',fontsize=10)\n",
        "plt.ylabel('Close Price in $')\n",
        "plt.show()"
      ],
      "metadata": {
        "colab": {
          "base_uri": "https://localhost:8080/",
          "height": 295
        },
        "id": "rmDjNAMdwTt0",
        "outputId": "dc59d3ba-6b4e-41d7-afe9-230f170b70b5"
      },
      "execution_count": 24,
      "outputs": [
        {
          "output_type": "display_data",
          "data": {
            "text/plain": [
              "<Figure size 648x288 with 1 Axes>"
            ],
            "image/png": "[encoded data removed]"
          },
          "metadata": {
            "needs_background": "light"
          }
        }
      ]
    },
    {
      "cell_type": "code",
      "source": [
        "#Filtering only required column \"Here we only considering Close stock price\" From DataFrame\n",
        "data = df.filter(['Close'])\n"
      ],
      "metadata": {
        "id": "ngTbJqy1wTzD"
      },
      "execution_count": 25,
      "outputs": []
    },
    {
      "cell_type": "code",
      "source": [
        "#Converting data frame to NumPy array And calculating 80% data length for training data length\n",
        "dataset = data.values\n",
        "train_data_len = round(len(dataset) * 0.8)"
      ],
      "metadata": {
        "id": "eAC-P760mn8L"
      },
      "execution_count": 26,
      "outputs": []
    },
    {
      "cell_type": "code",
      "source": [
        "#Scaling the training data between 0 to 1 for our LSTM model\n",
        "train_data  = dataset[0:train_data_len,:] #Taking 80% of total dataset for training\n",
        "\n",
        "scaler = MinMaxScaler(feature_range=(0,1))\n",
        "scaled_data_train = scaler.fit_transform(train_data) #Scaling training data"
      ],
      "metadata": {
        "id": "3tNpvNAnysRt"
      },
      "execution_count": 27,
      "outputs": []
    },
    {
      "cell_type": "code",
      "source": [
        "#Appending the past 60s days closing values to x_train(Inputs) and appending 61th Closing value to y_train(Output)\n",
        "x_train = [] #inputs past 60 days closing values\n",
        "y_train = [] #output 61th day closing value\n",
        "for i in range(60, train_data_len):\n",
        "  x_train.append(scaled_data_train[i-60:i,0])\n",
        "  y_train.append(scaled_data_train[i,0])"
      ],
      "metadata": {
        "id": "6KJABmKkzUHT"
      },
      "execution_count": 28,
      "outputs": []
    },
    {
      "cell_type": "code",
      "source": [
        "#Converting list to NumPy array\n",
        "x_train = np.array(x_train)\n",
        "y_train = np.array(y_train)\n",
        "x_train = x_train.reshape(len(x_train),60,1)"
      ],
      "metadata": {
        "id": "SxdTA7uSzU-n"
      },
      "execution_count": 29,
      "outputs": []
    },
    {
      "cell_type": "code",
      "source": [
        "#Building LSTM Model and layers\n",
        "model = Sequential()\n",
        "model.add(LSTM(60,return_sequences=True, input_shape = (60, 1)))\n",
        "#model.add(Dropout(0.5))\n",
        "model.add(LSTM(31))\n",
        "model.add(Dense(1))\n",
        "#print(model.summary())"
      ],
      "metadata": {
        "id": "UDPCHPZu2yZP"
      },
      "execution_count": 30,
      "outputs": []
    },
    {
      "cell_type": "code",
      "source": [
        "#Compling and Fit the model\n",
        "model.compile(optimizer=\"Nadam\", loss='mean_squared_error')\n",
        "model.fit(x_train,y_train, batch_size=5, epochs=5)"
      ],
      "metadata": {
        "id": "WmESl_jn5S17",
        "colab": {
          "base_uri": "https://localhost:8080/"
        },
        "outputId": "3017f836-f00d-40ae-e6e3-21a7ba4c9f8e"
      },
      "execution_count": 31,
      "outputs": [
        {
          "output_type": "stream",
          "name": "stdout",
          "text": [
            "Epoch 1/5\n",
            "435/435 [==============================] - 33s 64ms/step - loss: 0.0043\n",
            "Epoch 2/5\n",
            "435/435 [==============================] - 26s 61ms/step - loss: 8.0778e-04\n",
            "Epoch 3/5\n",
            "435/435 [==============================] - 25s 57ms/step - loss: 5.8416e-04\n",
            "Epoch 4/5\n",
            "435/435 [==============================] - 26s 60ms/step - loss: 4.8788e-04\n",
            "Epoch 5/5\n",
            "435/435 [==============================] - 26s 61ms/step - loss: 4.1127e-04\n"
          ]
        },
        {
          "output_type": "execute_result",
          "data": {
            "text/plain": [
              "<keras.callbacks.History at 0x7fa86eb58160>"
            ]
          },
          "metadata": {},
          "execution_count": 31
        }
      ]
    },
    {
      "cell_type": "code",
      "source": [
        "#Appending the past 60s days closing values to x_test(Test Inputs)\n",
        "test_data = dataset[train_data_len - 60: , :]\n",
        "test_data = scaler.fit_transform(test_data)\n",
        "x_test = []\n",
        "for i in range(60, len(test_data)):\n",
        "  x_test.append(test_data[i-60:i,0])\n",
        "\n",
        "#Storing Actual Closing values to y_test\n",
        "y_test = dataset[train_data_len:, :]"
      ],
      "metadata": {
        "id": "fF15XLKO5xxM"
      },
      "execution_count": 32,
      "outputs": []
    },
    {
      "cell_type": "code",
      "source": [
        "#Converting x_test to NumPy array and reshape it\n",
        "x_test = np.array(x_test)\n",
        "x_test = x_test.reshape(len(x_test),60,1)"
      ],
      "metadata": {
        "id": "h0I0Yjw-7SXL"
      },
      "execution_count": 33,
      "outputs": []
    },
    {
      "cell_type": "code",
      "source": [
        "#Predicting the closing value till original dataset\n",
        "pred = model.predict(x_test)\n",
        "pred_inverse = scaler.inverse_transform(pred)"
      ],
      "metadata": {
        "id": "lT132FL27c9M",
        "colab": {
          "base_uri": "https://localhost:8080/"
        },
        "outputId": "b7a3a5ba-5cf9-4b9a-d3ab-9092af80b240"
      },
      "execution_count": 34,
      "outputs": [
        {
          "output_type": "stream",
          "name": "stdout",
          "text": [
            "18/18 [==============================] - 1s 20ms/step\n"
          ]
        }
      ]
    },
    {
      "cell_type": "code",
      "source": [
        "#Predicting Future 5 Days Values\n",
        "\n",
        "#Predicting +1 Day from last day of dataset\n",
        "x_test_59_1 = x_test[len(x_test)-1][1:60]\n",
        "x_test_59_1 = np.append(x_test_59_1, [pred[len(pred)-1]], axis=0)\n",
        "x_test_59_1 = x_test_59_1.reshape(1,60,1)\n",
        "predp = model.predict(x_test_59_1)\n",
        "\n",
        "#Predicting +2 Day from last day of dataset\n",
        "x_test_59_2 = x_test_59_1[0][1:60]\n",
        "x_test_59_2 = np.append(x_test_59_2, [predp[len(predp)-1]], axis=0)\n",
        "x_test_59_2 = x_test_59_2.reshape(1,60,1)\n",
        "predpp = model.predict(x_test_59_2)\n",
        "\n",
        "#Predicting +3 Day from last day of dataset\n",
        "x_test_59_3 = x_test_59_2[0][1:60]\n",
        "x_test_59_3 = np.append(x_test_59_3, [predpp[len(predpp)-1]], axis=0)\n",
        "x_test_59_3 = x_test_59_3.reshape(1,60,1)\n",
        "predppp = model.predict(x_test_59_3)\n",
        "\n",
        "#Predicting +4 Day from last day of dataset\n",
        "x_test_59_4 = x_test_59_3[0][1:60]\n",
        "x_test_59_4 = np.append(x_test_59_4, [predppp[len(predppp)-1]], axis=0)\n",
        "x_test_59_4 = x_test_59_4.reshape(1,60,1)\n",
        "predpppp = model.predict(x_test_59_4)\n",
        "\n",
        "#Predicting +5 Day from last day of dataset\n",
        "x_test_59_5 = x_test_59_4[0][1:60]\n",
        "x_test_59_5 = np.append(x_test_59_5, [predpppp[len(predpppp)-1]], axis=0)\n",
        "x_test_59_5 = x_test_59_5.reshape(1,60,1)\n",
        "predppppp = model.predict(x_test_59_5)\n",
        "\n",
        "print('+1')\n",
        "print(scaler.inverse_transform(predp))\n",
        "print('+2')\n",
        "print(scaler.inverse_transform(predpp))\n",
        "print('+3')\n",
        "print(scaler.inverse_transform(predppp)) #Converting back to original value \n",
        "print('+4')\n",
        "print(scaler.inverse_transform(predpppp))\n",
        "print('+5')\n",
        "print(scaler.inverse_transform(predppppp))\n"
      ],
      "metadata": {
        "colab": {
          "base_uri": "https://localhost:8080/"
        },
        "id": "ODKKEK6cx4ba",
        "outputId": "af254b91-8071-4f54-d588-749ca23bbae6"
      },
      "execution_count": 35,
      "outputs": [
        {
          "output_type": "stream",
          "name": "stdout",
          "text": [
            "1/1 [==============================] - 0s 29ms/step\n",
            "1/1 [==============================] - 0s 32ms/step\n",
            "1/1 [==============================] - 0s 31ms/step\n",
            "1/1 [==============================] - 0s 29ms/step\n",
            "1/1 [==============================] - 0s 30ms/step\n",
            "+1\n",
            "[[25.281733]]\n",
            "+2\n",
            "[[25.314571]]\n",
            "+3\n",
            "[[25.350775]]\n",
            "+4\n",
            "[[25.389208]]\n",
            "+5\n",
            "[[25.429335]]\n"
          ]
        }
      ]
    },
    {
      "cell_type": "code",
      "source": [
        "#Calculating Root Mean Square Error \n",
        "rmse=np.sqrt(np.mean(((pred_inverse - y_test)**2)))\n",
        "rmse \n",
        "#Last Best:- 0.9894429065605955"
      ],
      "metadata": {
        "id": "2v9qnvdN8pRk",
        "colab": {
          "base_uri": "https://localhost:8080/"
        },
        "outputId": "47565419-82fb-43be-a212-7202441d82ca"
      },
      "execution_count": 36,
      "outputs": [
        {
          "output_type": "execute_result",
          "data": {
            "text/plain": [
              "0.9664593910229836"
            ]
          },
          "metadata": {},
          "execution_count": 36
        }
      ]
    },
    {
      "cell_type": "code",
      "source": [
        "rmspe = np.sqrt(np.mean(np.square(((y_test - pred_inverse) / y_test)), axis=0))\n",
        "rmspe"
      ],
      "metadata": {
        "id": "KO-YDg4yPlNR",
        "colab": {
          "base_uri": "https://localhost:8080/"
        },
        "outputId": "936d7113-5a1e-4024-8d6f-227f00412666"
      },
      "execution_count": 37,
      "outputs": [
        {
          "output_type": "execute_result",
          "data": {
            "text/plain": [
              "array([0.04065788])"
            ]
          },
          "metadata": {},
          "execution_count": 37
        }
      ]
    },
    {
      "cell_type": "code",
      "source": [
        "#Adding Actual and Predicted values of closing price in valid NumPy array\n",
        "train = data[:train_data_len]\n",
        "valid = data[train_data_len:]\n",
        "valid['pred'] = pred_inverse\n",
        "valid"
      ],
      "metadata": {
        "id": "-mIkRArC_4Yy",
        "colab": {
          "base_uri": "https://localhost:8080/",
          "height": 559
        },
        "outputId": "87127c20-bc32-442d-d7f8-f204f9d2b287"
      },
      "execution_count": 38,
      "outputs": [
        {
          "output_type": "stream",
          "name": "stderr",
          "text": [
            "<ipython-input-38-f845359b1653>:4: SettingWithCopyWarning: \n",
            "A value is trying to be set on a copy of a slice from a DataFrame.\n",
            "Try using .loc[row_indexer,col_indexer] = value instead\n",
            "\n",
            "See the caveats in the documentation: https://pandas.pydata.org/pandas-docs/stable/user_guide/indexing.html#returning-a-view-versus-a-copy\n",
            "  valid['pred'] = pred_inverse\n"
          ]
        },
        {
          "output_type": "execute_result",
          "data": {
            "text/plain": [
              "                Close       pred\n",
              "Date                            \n",
              "2020-11-12  10.070000   9.686314\n",
              "2020-11-13  10.030000   9.812831\n",
              "2020-11-16  10.490000   9.893867\n",
              "2020-11-17  10.900000  10.002592\n",
              "2020-11-18  11.630000  10.166792\n",
              "...               ...        ...\n",
              "2023-01-26  25.139999  25.026146\n",
              "2023-01-27  25.139999  25.139328\n",
              "2023-01-30  25.139999  25.211344\n",
              "2023-01-31  25.139999  25.246473\n",
              "2023-02-01  25.139999  25.255049\n",
              "\n",
              "[558 rows x 2 columns]"
            ],
            "text/html": [
              "\n",
              "  <div id=\"df-f40afcad-821d-488a-884d-8beddf5d3876\">\n",
              "    <div class=\"colab-df-container\">\n",
              "      <div>\n",
              "<style scoped>\n",
              "    .dataframe tbody tr th:only-of-type {\n",
              "        vertical-align: middle;\n",
              "    }\n",
              "\n",
              "    .dataframe tbody tr th {\n",
              "        vertical-align: top;\n",
              "    }\n",
              "\n",
              "    .dataframe thead th {\n",
              "        text-align: right;\n",
              "    }\n",
              "</style>\n",
              "<table border=\"1\" class=\"dataframe\">\n",
              "  <thead>\n",
              "    <tr style=\"text-align: right;\">\n",
              "      <th></th>\n",
              "      <th>Close</th>\n",
              "      <th>pred</th>\n",
              "    </tr>\n",
              "    <tr>\n",
              "      <th>Date</th>\n",
              "      <th></th>\n",
              "      <th></th>\n",
              "    </tr>\n",
              "  </thead>\n",
              "  <tbody>\n",
              "    <tr>\n",
              "      <th>2020-11-12</th>\n",
              "      <td>10.070000</td>\n",
              "      <td>9.686314</td>\n",
              "    </tr>\n",
              "    <tr>\n",
              "      <th>2020-11-13</th>\n",
              "      <td>10.030000</td>\n",
              "      <td>9.812831</td>\n",
              "    </tr>\n",
              "    <tr>\n",
              "      <th>2020-11-16</th>\n",
              "      <td>10.490000</td>\n",
              "      <td>9.893867</td>\n",
              "    </tr>\n",
              "    <tr>\n",
              "      <th>2020-11-17</th>\n",
              "      <td>10.900000</td>\n",
              "      <td>10.002592</td>\n",
              "    </tr>\n",
              "    <tr>\n",
              "      <th>2020-11-18</th>\n",
              "      <td>11.630000</td>\n",
              "      <td>10.166792</td>\n",
              "    </tr>\n",
              "    <tr>\n",
              "      <th>...</th>\n",
              "      <td>...</td>\n",
              "      <td>...</td>\n",
              "    </tr>\n",
              "    <tr>\n",
              "      <th>2023-01-26</th>\n",
              "      <td>25.139999</td>\n",
              "      <td>25.026146</td>\n",
              "    </tr>\n",
              "    <tr>\n",
              "      <th>2023-01-27</th>\n",
              "      <td>25.139999</td>\n",
              "      <td>25.139328</td>\n",
              "    </tr>\n",
              "    <tr>\n",
              "      <th>2023-01-30</th>\n",
              "      <td>25.139999</td>\n",
              "      <td>25.211344</td>\n",
              "    </tr>\n",
              "    <tr>\n",
              "      <th>2023-01-31</th>\n",
              "      <td>25.139999</td>\n",
              "      <td>25.246473</td>\n",
              "    </tr>\n",
              "    <tr>\n",
              "      <th>2023-02-01</th>\n",
              "      <td>25.139999</td>\n",
              "      <td>25.255049</td>\n",
              "    </tr>\n",
              "  </tbody>\n",
              "</table>\n",
              "<p>558 rows × 2 columns</p>\n",
              "</div>\n",
              "      <button class=\"colab-df-convert\" onclick=\"convertToInteractive('df-f40afcad-821d-488a-884d-8beddf5d3876')\"\n",
              "              title=\"Convert this dataframe to an interactive table.\"\n",
              "              style=\"display:none;\">\n",
              "        \n",
              "  <svg xmlns=\"http://www.w3.org/2000/svg\" height=\"24px\"viewBox=\"0 0 24 24\"\n",
              "       width=\"24px\">\n",
              "    <path d=\"M0 0h24v24H0V0z\" fill=\"none\"/>\n",
              "    <path d=\"M18.56 5.44l.94 2.06.94-2.06 2.06-.94-2.06-.94-.94-2.06-.94 2.06-2.06.94zm-11 1L8.5 8.5l.94-2.06 2.06-.94-2.06-.94L8.5 2.5l-.94 2.06-2.06.94zm10 10l.94 2.06.94-2.06 2.06-.94-2.06-.94-.94-2.06-.94 2.06-2.06.94z\"/><path d=\"M17.41 7.96l-1.37-1.37c-.4-.4-.92-.59-1.43-.59-.52 0-1.04.2-1.43.59L10.3 9.45l-7.72 7.72c-.78.78-.78 2.05 0 2.83L4 21.41c.39.39.9.59 1.41.59.51 0 1.02-.2 1.41-.59l7.78-7.78 2.81-2.81c.8-.78.8-2.07 0-2.86zM5.41 20L4 18.59l7.72-7.72 1.47 1.35L5.41 20z\"/>\n",
              "  </svg>\n",
              "      </button>\n",
              "      \n",
              "  <style>\n",
              "    .colab-df-container {\n",
              "      display:flex;\n",
              "      flex-wrap:wrap;\n",
              "      gap: 12px;\n",
              "    }\n",
              "\n",
              "    .colab-df-convert {\n",
              "      background-color: #E8F0FE;\n",
              "      border: none;\n",
              "      border-radius: 50%;\n",
              "      cursor: pointer;\n",
              "      display: none;\n",
              "      fill: #1967D2;\n",
              "      height: 32px;\n",
              "      padding: 0 0 0 0;\n",
              "      width: 32px;\n",
              "    }\n",
              "\n",
              "    .colab-df-convert:hover {\n",
              "      background-color: #E2EBFA;\n",
              "      box-shadow: 0px 1px 2px rgba(60, 64, 67, 0.3), 0px 1px 3px 1px rgba(60, 64, 67, 0.15);\n",
              "      fill: #174EA6;\n",
              "    }\n",
              "\n",
              "    [theme=dark] .colab-df-convert {\n",
              "      background-color: #3B4455;\n",
              "      fill: #D2E3FC;\n",
              "    }\n",
              "\n",
              "    [theme=dark] .colab-df-convert:hover {\n",
              "      background-color: #434B5C;\n",
              "      box-shadow: 0px 1px 3px 1px rgba(0, 0, 0, 0.15);\n",
              "      filter: drop-shadow(0px 1px 2px rgba(0, 0, 0, 0.3));\n",
              "      fill: #FFFFFF;\n",
              "    }\n",
              "  </style>\n",
              "\n",
              "      <script>\n",
              "        const buttonEl =\n",
              "          document.querySelector('#df-f40afcad-821d-488a-884d-8beddf5d3876 button.colab-df-convert');\n",
              "        buttonEl.style.display =\n",
              "          google.colab.kernel.accessAllowed ? 'block' : 'none';\n",
              "\n",
              "        async function convertToInteractive(key) {\n",
              "          const element = document.querySelector('#df-f40afcad-821d-488a-884d-8beddf5d3876');\n",
              "          const dataTable =\n",
              "            await google.colab.kernel.invokeFunction('convertToInteractive',\n",
              "                                                     [key], {});\n",
              "          if (!dataTable) return;\n",
              "\n",
              "          const docLinkHtml = 'Like what you see? Visit the ' +\n",
              "            '<a target=\"_blank\" href=https://colab.research.google.com/notebooks/data_table.ipynb>data table notebook</a>'\n",
              "            + ' to learn more about interactive tables.';\n",
              "          element.innerHTML = '';\n",
              "          dataTable['output_type'] = 'display_data';\n",
              "          await google.colab.output.renderOutput(dataTable, element);\n",
              "          const docLink = document.createElement('div');\n",
              "          docLink.innerHTML = docLinkHtml;\n",
              "          element.appendChild(docLink);\n",
              "        }\n",
              "      </script>\n",
              "    </div>\n",
              "  </div>\n",
              "  "
            ]
          },
          "metadata": {},
          "execution_count": 38
        }
      ]
    },
    {
      "cell_type": "code",
      "source": [
        "#Ploting the Graph for training data + Predicted data + Actual Data\n",
        "plt.figure(figsize=(10,6))\n",
        "plt.title(\"Tata Motors Stock Price Preditions\")\n",
        "plt.xlabel(\"Date\",fontsize=18)\n",
        "plt.ylabel(\"Close Price in $\",fontsize=18)\n",
        "plt.plot(train['Close'])\n",
        "plt.plot(valid[['Close', 'pred']])\n",
        "plt.legend(['Train','Actual','Predited'])\n",
        "plt.show()"
      ],
      "metadata": {
        "id": "NMbtgJJzBfId",
        "colab": {
          "base_uri": "https://localhost:8080/",
          "height": 412
        },
        "outputId": "0cbdbb7d-7faf-4642-81d4-809cc2ebdc49"
      },
      "execution_count": 39,
      "outputs": [
        {
          "output_type": "display_data",
          "data": {
            "text/plain": [
              "<Figure size 720x432 with 1 Axes>"
            ],
            "image/png": "[encoded data removed]"
          },
          "metadata": {
            "needs_background": "light"
          }
        }
      ]
    }
  ]
}